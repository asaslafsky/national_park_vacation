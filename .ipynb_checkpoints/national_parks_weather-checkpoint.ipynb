{
 "cells": [
  {
   "cell_type": "markdown",
   "id": "233178c7",
   "metadata": {},
   "source": [
    "### Imports"
   ]
  },
  {
   "cell_type": "code",
   "execution_count": 105,
   "id": "b7d1c4f9",
   "metadata": {},
   "outputs": [],
   "source": [
    "import pandas as pd\n",
    "import requests\n",
    "import json\n",
    "import numpy as np\n",
    "from sklearn.metrics.pairwise import haversine_distances\n",
    "\n",
    "# Import Meteostat library and dependencies\n",
    "from datetime import datetime\n",
    "from meteostat import Point, Daily"
   ]
  },
  {
   "cell_type": "markdown",
   "id": "3ef5399c",
   "metadata": {},
   "source": [
    "### Get List of Every National Park in the US\n",
    "- If needed, figure out zipcode"
   ]
  },
  {
   "cell_type": "code",
   "execution_count": 2,
   "id": "7d2a97cc",
   "metadata": {},
   "outputs": [],
   "source": [
    "def get_nps_park_info():\n",
    "    # API endpoint for the National Park Service API\n",
    "    API_ENDPOINT = 'https://developer.nps.gov/api/v1/parks'\n",
    "\n",
    "    # API key for accessing the National Park Service API\n",
    "    API_KEY = 'kdwYf9g5hjZpiFLxsM8bhkGExV9rIvznz43qcmwO'\n",
    "\n",
    "    # Request parameters\n",
    "    params = {\n",
    "        'api_key': API_KEY,\n",
    "        'limit': 500,  # Maximum number of parks per request\n",
    "        'countryCode': 'US',  # Limit results to US national parks\n",
    "    }\n",
    "\n",
    "    # Send initial GET request to the API\n",
    "    response = requests.get(API_ENDPOINT, params=params)\n",
    "    data = response.json()\n",
    "\n",
    "    # Check if the request was successful\n",
    "    if response.status_code == 200:\n",
    "\n",
    "        # Retrieve the list of parks from the initial response\n",
    "        parks = data['data']\n",
    "        return parks\n",
    "    \n",
    "    else:\n",
    "        print(response.status_code)\n",
    "        return None"
   ]
  },
  {
   "cell_type": "code",
   "execution_count": 3,
   "id": "58184ac2",
   "metadata": {},
   "outputs": [],
   "source": [
    "parks = get_nps_park_info()"
   ]
  },
  {
   "cell_type": "code",
   "execution_count": 8,
   "id": "bd0c21ec",
   "metadata": {},
   "outputs": [],
   "source": [
    "def filter_nps_park_info(parks):\n",
    "    # Iterate over each park and save all information\n",
    "    park_info = []\n",
    "    for park in parks:\n",
    "        \n",
    "        # If there isnt a physical address, dont keep this park\n",
    "        if len(park['addresses']) == 0:\n",
    "            continue\n",
    "            \n",
    "#         adresses = pd.DataFrame(park['addresses'])\n",
    "#         postal_codes = adresses[adresses['type'] == 'Physical']['postalCode'].values\n",
    "\n",
    "        park_info.append([park['fullName'], park['latitude'], park['longitude'], park['states']]) #postal_codes\n",
    "    \n",
    "    return park_info"
   ]
  },
  {
   "cell_type": "code",
   "execution_count": 113,
   "id": "e0569723",
   "metadata": {},
   "outputs": [],
   "source": [
    "def format_and_clean_nps_park_info(park_info):\n",
    "    cols = ['park', 'lat', 'lon', 'states'] #, 'postal_codes'\n",
    "    types = ['str', 'float', 'float', 'str'] #, 'str'\n",
    "    \n",
    "    df = pd.DataFrame(park_info, columns=cols)\n",
    "    \n",
    "    clean_df = df.replace('', float('nan')).dropna()\n",
    "    \n",
    "    typed_df = clean_df.astype(dict(zip(cols, types)))\n",
    "    \n",
    "    return typed_df"
   ]
  },
  {
   "cell_type": "code",
   "execution_count": 114,
   "id": "73749513",
   "metadata": {},
   "outputs": [],
   "source": [
    "nps_parks_df = format_and_clean_nps_park_info(filter_nps_park_info(parks))\n",
    "\n",
    "# df['postal_codes'].str.replace(r'[0-9]', '.', regex=True).unique()"
   ]
  },
  {
   "cell_type": "markdown",
   "id": "ac71bec2",
   "metadata": {},
   "source": [
    "### Add Distance From Home"
   ]
  },
  {
   "cell_type": "code",
   "execution_count": 133,
   "id": "3326060f",
   "metadata": {},
   "outputs": [],
   "source": [
    "def latitude_longitude_distance(start_location, end_location, earths_radius_in_miles=6371000/1.609344):\n",
    "    # Turn latitude/longitude into radians\n",
    "    start_location = np.deg2rad(start_location)\n",
    "    end_location = np.deg2rad(end_location)\n",
    "    \n",
    "    # Get the distance between that start location(s) and end location(s) in miles\n",
    "    return haversine_distances(start_location, end_location) * earths_radius_in_miles\n",
    "\n",
    "current_loc = [[33.822460, -84.328970]]\n",
    "nps_parks_df['dist'] = latitude_longitude_distance(nps_parks_df[['lat', 'lon']], current_loc)"
   ]
  },
  {
   "cell_type": "markdown",
   "id": "bea07ab1",
   "metadata": {},
   "source": [
    "### Get Monthly Avg Weather for Given Locations\n",
    "#### Sources that didnt work (due to cost or ambiguities)\n",
    "- OpenWeatherMap (paid)\n",
    "- Tomorrow.io (paid)\n",
    "- NCEI (zipcode ambiguity) https://www.ncei.noaa.gov/cdo-web/search?datasetid=NORMAL_DLY\n",
    "- meteostat (doesn't have weather for most \"National Parks\")"
   ]
  },
  {
   "cell_type": "code",
   "execution_count": 208,
   "id": "ab7aebc1",
   "metadata": {},
   "outputs": [],
   "source": [
    "# May return an empty dataframe\n",
    "def get_daily_weather(lat, lon, start_year, start_month, start_day, end_year, end_month, end_day):\n",
    "    \n",
    "    # Create Point for current park\n",
    "    location = Point(lat, lon)\n",
    "    \n",
    "    # Set time period\n",
    "    start = datetime(start_year, start_month, start_day)\n",
    "    end = datetime(end_year, end_month, end_day)\n",
    "\n",
    "    # Get daily data for location\n",
    "    year_data = Daily(location, start, end).fetch()\n",
    "    \n",
    "    if not year_data.empty:\n",
    "        year_data = year_data.reset_index()\n",
    "\n",
    "    return year_data"
   ]
  },
  {
   "cell_type": "code",
   "execution_count": 135,
   "id": "04d13999",
   "metadata": {},
   "outputs": [],
   "source": [
    "def get_daily_weather_for_park(park_info, year, month, start_day, end_day):\n",
    "    \n",
    "    data = get_daily_weather(park_info['lat'], park_info['lon'], year, month, start_day, year, month, end_day)\n",
    "    data['park'] = park_info['park']\n",
    "    data['lat'] = park_info['lat']\n",
    "    data['lon'] = park_info['lon']\n",
    "    data['dist'] = park_info['dist']\n",
    "    \n",
    "    return data"
   ]
  },
  {
   "cell_type": "code",
   "execution_count": 138,
   "id": "a2de5a19",
   "metadata": {},
   "outputs": [],
   "source": [
    "def celsius_to_farenheit(celsius_temp):\n",
    "    return (celsius_temp * 9/5) + 32"
   ]
  },
  {
   "cell_type": "code",
   "execution_count": 136,
   "id": "ab389305",
   "metadata": {},
   "outputs": [],
   "source": [
    "month = 8\n",
    "start_day = 9\n",
    "end_day = 20\n",
    "\n",
    "# Get weather data for the set days, for the past 12 years \n",
    "unformatted_weather_data = []\n",
    "for year in range(2010, 2023):\n",
    "    list_of_weather_dfs = nps_parks_df.apply(lambda park_info: get_daily_weather_for_park(park_info, year, month, start_day, end_day), axis=1).to_list()\n",
    "    unformatted_weather_data.extend(list_of_weather_dfs)\n",
    "\n",
    "weather_data = pd.concat(unformatted_weather_data)\n",
    "\n",
    "# Turn temperature data into farenheit\n",
    "temp_cols = ['tavg', 'tmin', 'tmax']\n",
    "weather_data[temp_cols] = celsius_to_farenheit(weather_data[temp_cols].astype(float))"
   ]
  },
  {
   "cell_type": "code",
   "execution_count": 154,
   "id": "d500332f",
   "metadata": {},
   "outputs": [],
   "source": [
    "avg_weather = weather_data.groupby(['park', weather_data['time'].dt.month, weather_data['time'].dt.day]).mean()"
   ]
  },
  {
   "cell_type": "code",
   "execution_count": 187,
   "id": "d4191077",
   "metadata": {},
   "outputs": [],
   "source": [
    "is_national_park = avg_weather.index.get_level_values(0).str.contains('National Park')\n",
    "is_cool_temp = avg_weather['tmax'] <= 76"
   ]
  },
  {
   "cell_type": "code",
   "execution_count": 188,
   "id": "d8eb2dcb",
   "metadata": {},
   "outputs": [
    {
     "data": {
      "text/plain": [
       "Index(['Isle Royale National Park', 'Acadia National Park',\n",
       "       'Wind Cave National Park', 'Rocky Mountain National Park',\n",
       "       'Bryce Canyon National Park', 'Yellowstone National Park'],\n",
       "      dtype='object', name='park')"
      ]
     },
     "execution_count": 188,
     "metadata": {},
     "output_type": "execute_result"
    }
   ],
   "source": [
    "avg_weather[is_national_park & is_cool_temp].sort_values('dist').index.get_level_values(0).unique() #nps_parks_df"
   ]
  },
  {
   "cell_type": "markdown",
   "id": "dd5e16b8",
   "metadata": {},
   "source": [
    "#### See what data we have/dont have. Are we missing data based on:\n",
    "- East vs west, north vs south?"
   ]
  },
  {
   "cell_type": "code",
   "execution_count": 55,
   "id": "284f1512",
   "metadata": {},
   "outputs": [],
   "source": [
    "nps_parks = nps_parks_df.name.unique()\n",
    "parks_with_data = weather_data.park.unique()\n",
    "\n",
    "parks_without_data = [park for park in nps_parks if park not in parks_with_data]"
   ]
  },
  {
   "cell_type": "markdown",
   "id": "d906416c",
   "metadata": {},
   "source": [
    "----"
   ]
  },
  {
   "cell_type": "markdown",
   "id": "d0544c94",
   "metadata": {},
   "source": [
    "### Realized most parks that are 'National Parks' don't have weather data via this API"
   ]
  },
  {
   "cell_type": "code",
   "execution_count": 206,
   "id": "18b93425",
   "metadata": {},
   "outputs": [],
   "source": [
    "d = get_daily_weather_for_park(nps_parks_df, 2001, month, start_day, end_day)"
   ]
  },
  {
   "cell_type": "code",
   "execution_count": 209,
   "id": "7fd9bd41",
   "metadata": {},
   "outputs": [
    {
     "data": {
      "text/html": [
       "<div>\n",
       "<style scoped>\n",
       "    .dataframe tbody tr th:only-of-type {\n",
       "        vertical-align: middle;\n",
       "    }\n",
       "\n",
       "    .dataframe tbody tr th {\n",
       "        vertical-align: top;\n",
       "    }\n",
       "\n",
       "    .dataframe thead th {\n",
       "        text-align: right;\n",
       "    }\n",
       "</style>\n",
       "<table border=\"1\" class=\"dataframe\">\n",
       "  <thead>\n",
       "    <tr style=\"text-align: right;\">\n",
       "      <th></th>\n",
       "      <th>tavg</th>\n",
       "      <th>tmin</th>\n",
       "      <th>tmax</th>\n",
       "      <th>prcp</th>\n",
       "      <th>snow</th>\n",
       "      <th>wdir</th>\n",
       "      <th>wspd</th>\n",
       "      <th>wpgt</th>\n",
       "      <th>pres</th>\n",
       "      <th>tsun</th>\n",
       "    </tr>\n",
       "  </thead>\n",
       "  <tbody>\n",
       "  </tbody>\n",
       "</table>\n",
       "</div>"
      ],
      "text/plain": [
       "Empty DataFrame\n",
       "Columns: [tavg, tmin, tmax, prcp, snow, wdir, wspd, wpgt, pres, tsun]\n",
       "Index: []"
      ]
     },
     "execution_count": 209,
     "metadata": {},
     "output_type": "execute_result"
    }
   ],
   "source": [
    "get_daily_weather(37.8488, -119.5571, 2020, 8, 10, 2020, 8, 20)"
   ]
  }
 ],
 "metadata": {
  "kernelspec": {
   "display_name": "Python 3 (ipykernel)",
   "language": "python",
   "name": "python3"
  },
  "language_info": {
   "codemirror_mode": {
    "name": "ipython",
    "version": 3
   },
   "file_extension": ".py",
   "mimetype": "text/x-python",
   "name": "python",
   "nbconvert_exporter": "python",
   "pygments_lexer": "ipython3",
   "version": "3.9.12"
  }
 },
 "nbformat": 4,
 "nbformat_minor": 5
}
