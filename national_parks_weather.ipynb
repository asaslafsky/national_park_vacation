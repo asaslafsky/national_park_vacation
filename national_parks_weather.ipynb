{
 "cells": [
  {
   "cell_type": "markdown",
   "id": "233178c7",
   "metadata": {},
   "source": [
    "### Imports"
   ]
  },
  {
   "cell_type": "code",
   "execution_count": 544,
   "id": "b7d1c4f9",
   "metadata": {},
   "outputs": [],
   "source": [
    "import pandas as pd\n",
    "import requests\n",
    "import json\n",
    "import numpy as np\n",
    "import seaborn as sns\n",
    "import matplotlib.pyplot as plt\n",
    "\n",
    "from sklearn.metrics.pairwise import haversine_distances"
   ]
  },
  {
   "cell_type": "markdown",
   "id": "92d66e12",
   "metadata": {},
   "source": [
    "# Figure Out Which Park I Will Go Hiking in For an August Vacation\n",
    "## Based on:\n",
    "- **Preference for National Parks**\n",
    "- **Driving Distance**\n",
    "- **Expected Weather**"
   ]
  },
  {
   "cell_type": "markdown",
   "id": "3d51b0bf",
   "metadata": {},
   "source": [
    "---"
   ]
  },
  {
   "cell_type": "markdown",
   "id": "3ef5399c",
   "metadata": {},
   "source": [
    "## Get List of Every Park Run By the NPS  in the US\n",
    "- helpful documentation: https://www.nps.gov/subjects/developer/api-documentation.htm#/"
   ]
  },
  {
   "cell_type": "code",
   "execution_count": 225,
   "id": "7d2a97cc",
   "metadata": {},
   "outputs": [],
   "source": [
    "def get_nps_park_info():\n",
    "    \n",
    "    # API endpoint for the National Park Service API\n",
    "    endpoint = 'parks'\n",
    "    API_ENDPOINT = f\"https://developer.nps.gov/api/v1/{endpoint}\"\n",
    "\n",
    "    # API key for accessing the National Park Service API\n",
    "    API_KEY = 'kdwYf9g5hjZpiFLxsM8bhkGExV9rIvznz43qcmwO'\n",
    "\n",
    "    # Request parameters\n",
    "    params = {\n",
    "        'api_key': API_KEY,\n",
    "        'limit': 1000,  # Maximum number of parks per request\n",
    "        'countryCode': 'US',  # Limit results to US parks\n",
    "    }\n",
    "\n",
    "    # Send initial GET request to the API\n",
    "    response = requests.get(API_ENDPOINT, params=params)\n",
    "    data = response.json()\n",
    "\n",
    "    # Check if the request was successful\n",
    "    if response.status_code == 200:\n",
    "\n",
    "        # Retrieve the list of parks from the initial response\n",
    "        parks = data['data']\n",
    "        return parks\n",
    "    \n",
    "    else:\n",
    "        print(response.status_code)\n",
    "        return None"
   ]
  },
  {
   "cell_type": "code",
   "execution_count": 235,
   "id": "bd0c21ec",
   "metadata": {},
   "outputs": [],
   "source": [
    "def filter_nps_park_info(parks):\n",
    "    # Iterate over each park\n",
    "    park_info = []\n",
    "    for park in parks:\n",
    "        \n",
    "        # Only keep parks where I can go hiking\n",
    "        has_hiking = [True if activity['name'] == 'Hiking' else False for activity in park['activities']]\n",
    "        if not has_hiking:\n",
    "            continue\n",
    "\n",
    "        # Save helpful information on park\n",
    "        park_info.append([park['fullName'], park['latitude'], park['longitude'], park['states'], park['designation']])\n",
    "    \n",
    "    return park_info"
   ]
  },
  {
   "cell_type": "code",
   "execution_count": 236,
   "id": "e0569723",
   "metadata": {},
   "outputs": [],
   "source": [
    "def format_and_clean_nps_park_info(park_info):\n",
    "    cols = ['park', 'lat', 'lon', 'states', 'park_type']\n",
    "    types = ['str', 'float', 'float', 'str', 'str']\n",
    "    \n",
    "    df = pd.DataFrame(park_info, columns=cols)\n",
    "    \n",
    "    clean_df = df.replace('', float('nan')).dropna()\n",
    "    typed_df = clean_df.astype(dict(zip(cols, types)))\n",
    "    \n",
    "    return typed_df"
   ]
  },
  {
   "cell_type": "code",
   "execution_count": 240,
   "id": "73749513",
   "metadata": {},
   "outputs": [],
   "source": [
    "parks_api_call = get_nps_park_info()\n",
    "nps_parks = format_and_clean_nps_park_info(filter_nps_park_info(parks_api_call))\n",
    "nps_national_parks = nps_parks[nps_parks['park_type'] == 'National Park'].reset_index(drop=True)"
   ]
  },
  {
   "cell_type": "markdown",
   "id": "8ea6f8d7",
   "metadata": {},
   "source": [
    "---"
   ]
  },
  {
   "cell_type": "markdown",
   "id": "4a81211a",
   "metadata": {},
   "source": [
    "## Get Distance From Home Metric and Filter Out Parks\n",
    "- distance = miles away as the crow flies\n",
    "- calculated using latitude/longitude to save computation time"
   ]
  },
  {
   "cell_type": "markdown",
   "id": "c48a7f18",
   "metadata": {},
   "source": [
    "#### Add Distance From Home"
   ]
  },
  {
   "cell_type": "code",
   "execution_count": 432,
   "id": "a633a698",
   "metadata": {},
   "outputs": [],
   "source": [
    "def latitude_longitude_distance(start_location, end_location, earths_radius_in_miles=6371/1.609344):\n",
    "    # Turn latitude/longitude into radians\n",
    "    start_location = np.deg2rad(start_location)\n",
    "    end_location = np.deg2rad(end_location)\n",
    "    \n",
    "    # Get the distance between that start location(s) and end location(s) in miles\n",
    "    return haversine_distances(start_location, end_location) * earths_radius_in_miles"
   ]
  },
  {
   "cell_type": "code",
   "execution_count": 433,
   "id": "31300e27",
   "metadata": {},
   "outputs": [],
   "source": [
    "home = [[33.822460, -84.328970]]\n",
    "nps_parks['dist'] = latitude_longitude_distance(nps_parks[['lat', 'lon']], home)\n",
    "nps_national_parks['dist'] = latitude_longitude_distance(nps_national_parks[['lat', 'lon']], home)"
   ]
  },
  {
   "cell_type": "markdown",
   "id": "dba6ad2a",
   "metadata": {},
   "source": [
    "#### Filter Out Parks by Distance from Home"
   ]
  },
  {
   "cell_type": "code",
   "execution_count": 437,
   "id": "af418c7f",
   "metadata": {},
   "outputs": [],
   "source": [
    "nps_parks_of_interest = nps_parks[nps_parks['dist'] < 800]"
   ]
  },
  {
   "cell_type": "markdown",
   "id": "15c18752",
   "metadata": {},
   "source": [
    "---"
   ]
  },
  {
   "cell_type": "markdown",
   "id": "bea07ab1",
   "metadata": {},
   "source": [
    "## Get Daily Expected Weather and Filter Out Parks\n",
    "\n",
    "### Definition: Expected Weather \n",
    "- The daily weather averaged over the past ~10 years for a given month-day pair\n",
    "\n",
    "### Helpful Documentation\n",
    "- https://open-meteo.com/en/docs\n",
    "\n",
    "### Variables of Interest\n",
    "- temperature_2m = Air temperature °F at 2 meters above ground\n",
    "- apparent_temperature = Perceived feels-like temperature °F combining wind chill factor, relative humidity and solar radiation \n",
    "\n",
    "### Sources that didnt work (due to cost or ambiguities)\n",
    "- OpenWeatherMap (paid)\n",
    "- Tomorrow.io (paid)\n",
    "- NCEI (zipcode ambiguity) https://www.ncei.noaa.gov/cdo-web/search?datasetid=NORMAL_DLY\n",
    "- meteostat (doesn't have weather for most \"National Parks\")\n",
    "\n",
    "### Possible Add-Ons\n",
    "- Check out current literature on forecasting weather to look into a better way to calculate or learn expected weather."
   ]
  },
  {
   "cell_type": "markdown",
   "id": "8019d999",
   "metadata": {},
   "source": [
    "#### Add Expected Weather Per Park"
   ]
  },
  {
   "cell_type": "code",
   "execution_count": 254,
   "id": "e65e7790",
   "metadata": {},
   "outputs": [],
   "source": [
    "def format_date(year, month, day):\n",
    "    return f\"{year}-{'{:02d}'.format(month)}-{'{:02d}'.format(day)}\""
   ]
  },
  {
   "cell_type": "code",
   "execution_count": 515,
   "id": "838aa3a3",
   "metadata": {},
   "outputs": [],
   "source": [
    "# May return an empty dataframe\n",
    "def daily_weather(lat, lon, start_year, start_month, start_day, end_year, end_month, end_day):\n",
    "    \n",
    "    # Construct the request URL\n",
    "    start_date = format_date(start_year, start_month, start_day)\n",
    "    end_date = format_date(end_year, end_month, end_day)\n",
    "    daily_weather_variables = 'temperature_2m_max,temperature_2m_min,apparent_temperature_max,apparent_temperature_min'\n",
    "\n",
    "    url = f\"https://archive-api.open-meteo.com/v1/archive?latitude={lat}&longitude={lon}&start_date={start_date}&end_date={end_date}&daily={daily_weather_variables}&timezone=America%2FNew_York&temperature_unit=fahrenheit&windspeed_unit=mph&precipitation_unit=inch\"\n",
    "\n",
    "    # Construct the request Header\n",
    "    headers = {}\n",
    "    headers[\"Content-Type\"] = \"multipart/form-data\"\n",
    "    headers[\"Accept\"] = \"application/json\"\n",
    "\n",
    "    # Send the API request\n",
    "    response = requests.get(url, headers=headers)\n",
    "    \n",
    "    # Parse the JSON response\n",
    "    json = response.json()\n",
    "    \n",
    "    # Format Data as a DataFrame\n",
    "    df = pd.DataFrame(json['daily']).astype({'time':'datetime64'})\n",
    "    return df"
   ]
  },
  {
   "cell_type": "code",
   "execution_count": 362,
   "id": "04d13999",
   "metadata": {},
   "outputs": [],
   "source": [
    "def daily_weather_averaged_over_years(lat, lon, start_year, start_month, start_day, end_year, end_month, end_day):\n",
    "    \n",
    "    # Get weather data for multiple years and concatenate them into 1 dataframe\n",
    "    data = pd.concat([daily_weather(lat, lon, year, start_month, start_day, year, end_month, end_day) \n",
    "                      for year in range(start_year, end_year + 1)])\n",
    "\n",
    "    # Get the average daily weather over the years\n",
    "    avg_data = data.groupby([data.time.dt.month, data.time.dt.day]).agg('mean')\n",
    "    avg_data.index = avg_data.index.rename(['month', 'day'])\n",
    "    \n",
    "    # Form a pivot table\n",
    "    return avg_data.reset_index()"
   ]
  },
  {
   "cell_type": "code",
   "execution_count": 397,
   "id": "6f70cc2e",
   "metadata": {},
   "outputs": [],
   "source": [
    "def daily_park_weather_averaged_over_years(park, *dates_info):\n",
    "    \n",
    "    # Get the average weather for the given month(s)/day(s) range\n",
    "    df = daily_weather_averaged_over_years(park['lat'], park['lon'], *dates_info)\n",
    "    \n",
    "    # Add Park Information To All Rows\n",
    "    df[park.index] = park\n",
    "    \n",
    "    return df"
   ]
  },
  {
   "cell_type": "code",
   "execution_count": 438,
   "id": "d5f7f186",
   "metadata": {},
   "outputs": [],
   "source": [
    "start_year = 2010\n",
    "end_year = 2022\n",
    "month = 8\n",
    "start_day = 9\n",
    "end_day = 20\n",
    "dates_info = [start_year, month, start_day, end_year, month, end_day]\n",
    "\n",
    "# Get the expected weather for all national parks for the chosen dates.\n",
    "nps_parks_of_interest_weather = pd.concat(nps_parks_of_interest.apply(lambda park: daily_park_weather_averaged_over_years(park, *dates_info), axis=1).to_list()).reset_index(drop=True)"
   ]
  },
  {
   "cell_type": "markdown",
   "id": "21a3f1a9",
   "metadata": {},
   "source": [
    "#### Filter Out Parks by Expected Weather"
   ]
  },
  {
   "cell_type": "code",
   "execution_count": 456,
   "id": "6cd25f67",
   "metadata": {},
   "outputs": [],
   "source": [
    "# Keep park-date pairs that have cool temperatures\n",
    "is_cool_temp = nps_parks_of_interest_weather['apparent_temperature_max'] <= 77\n",
    "cool_temp_driving_dist_parks = nps_parks_of_interest_weather[is_cool_temp].sort_values('dist')"
   ]
  },
  {
   "cell_type": "code",
   "execution_count": 469,
   "id": "b0c17df6",
   "metadata": {},
   "outputs": [],
   "source": [
    "# Counts the number of days with cool temperatures for each park\n",
    "parks_num_of_days_with_cool_temp = cool_temp_driving_dist_parks.groupby('park')['park'].count()\n",
    "\n",
    "# Must have at least 4 days of cool weather since thats about how long our vacation will be\n",
    "final_parks = parks_num_of_days_with_cool_temp[parks_num_of_days_with_cool_temp >= 4].index.to_list()"
   ]
  },
  {
   "cell_type": "markdown",
   "id": "1b03c07d",
   "metadata": {},
   "source": [
    "----"
   ]
  },
  {
   "cell_type": "markdown",
   "id": "3a90c031",
   "metadata": {},
   "source": [
    "## Final List of Possible Parks"
   ]
  },
  {
   "cell_type": "code",
   "execution_count": 470,
   "id": "5dead2d6",
   "metadata": {
    "scrolled": true
   },
   "outputs": [
    {
     "data": {
      "text/html": [
       "<div>\n",
       "<style scoped>\n",
       "    .dataframe tbody tr th:only-of-type {\n",
       "        vertical-align: middle;\n",
       "    }\n",
       "\n",
       "    .dataframe tbody tr th {\n",
       "        vertical-align: top;\n",
       "    }\n",
       "\n",
       "    .dataframe thead th {\n",
       "        text-align: right;\n",
       "    }\n",
       "</style>\n",
       "<table border=\"1\" class=\"dataframe\">\n",
       "  <thead>\n",
       "    <tr style=\"text-align: right;\">\n",
       "      <th></th>\n",
       "      <th>park</th>\n",
       "      <th>lat</th>\n",
       "      <th>lon</th>\n",
       "      <th>states</th>\n",
       "      <th>park_type</th>\n",
       "      <th>dist</th>\n",
       "    </tr>\n",
       "  </thead>\n",
       "  <tbody>\n",
       "    <tr>\n",
       "      <th>11</th>\n",
       "      <td>Allegheny Portage Railroad National Historic Site</td>\n",
       "      <td>40.429775</td>\n",
       "      <td>-78.574316</td>\n",
       "      <td>PA</td>\n",
       "      <td>National Historic Site</td>\n",
       "      <td>555.497344</td>\n",
       "    </tr>\n",
       "    <tr>\n",
       "      <th>134</th>\n",
       "      <td>Flight 93 National Memorial</td>\n",
       "      <td>40.060615</td>\n",
       "      <td>-78.894569</td>\n",
       "      <td>PA</td>\n",
       "      <td>National Memorial</td>\n",
       "      <td>524.948560</td>\n",
       "    </tr>\n",
       "    <tr>\n",
       "      <th>394</th>\n",
       "      <td>Sleeping Bear Dunes National Lakeshore</td>\n",
       "      <td>44.928450</td>\n",
       "      <td>-86.027066</td>\n",
       "      <td>MI</td>\n",
       "      <td>National Lakeshore</td>\n",
       "      <td>772.640212</td>\n",
       "    </tr>\n",
       "  </tbody>\n",
       "</table>\n",
       "</div>"
      ],
      "text/plain": [
       "                                                  park        lat        lon  \\\n",
       "11   Allegheny Portage Railroad National Historic Site  40.429775 -78.574316   \n",
       "134                        Flight 93 National Memorial  40.060615 -78.894569   \n",
       "394             Sleeping Bear Dunes National Lakeshore  44.928450 -86.027066   \n",
       "\n",
       "    states               park_type        dist  \n",
       "11      PA  National Historic Site  555.497344  \n",
       "134     PA       National Memorial  524.948560  \n",
       "394     MI      National Lakeshore  772.640212  "
      ]
     },
     "execution_count": 470,
     "metadata": {},
     "output_type": "execute_result"
    }
   ],
   "source": [
    "nps_parks[nps_parks['park'].isin(final_parks)]"
   ]
  },
  {
   "cell_type": "markdown",
   "id": "66efb048",
   "metadata": {},
   "source": [
    "---"
   ]
  },
  {
   "cell_type": "markdown",
   "id": "162534d9",
   "metadata": {},
   "source": [
    "## August Vacation Location: Sleeping Bear Dunes National Lakeshore!!!\n",
    "### Benefits:\n",
    "- Cool weather\n",
    "- Driving time is within the range we're willing to do (double checked on google maps by hand)\n",
    "- Has plenty of hiking trails (checked on alltrails)"
   ]
  },
  {
   "cell_type": "code",
   "execution_count": 517,
   "id": "40fc0a78",
   "metadata": {},
   "outputs": [],
   "source": [
    "vacation_park = 'Sleeping Bear Dunes National Lakeshore'\n",
    "vacation_park_weather = nps_parks_of_interest_weather[nps_parks_of_interest_weather['park'] == vacation_park]"
   ]
  },
  {
   "cell_type": "code",
   "execution_count": 551,
   "id": "0aaf34be",
   "metadata": {},
   "outputs": [
    {
     "data": {
      "text/plain": [
       "Text(0, 0.5, 'Expected Temperature (°F)')"
      ]
     },
     "execution_count": 551,
     "metadata": {},
     "output_type": "execute_result"
    },
    {
     "data": {
      "image/png": "[encoded data removed]",
      "text/plain": [
       "<Figure size 1000x600 with 1 Axes>"
      ]
     },
     "metadata": {},
     "output_type": "display_data"
    }
   ],
   "source": [
    "fig = plt.figure(figsize=(10,6), dpi= 100, facecolor='w', edgecolor='k')\n",
    "\n",
    "keep_cols = vacation_park_weather.columns[1:6].to_list()\n",
    "sns.lineplot(x='day', \n",
    "             y='value', \n",
    "             hue='variable', \n",
    "             data=pd.melt(vacation_park_weather[keep_cols], ['day']), \n",
    "             palette=['purple', 'purple', 'orange', 'orange'])\n",
    "\n",
    "plt.title(\"Sleeping Bear Dunes National Lakeshore\")\n",
    "plt.xlabel(\"Day in August\")\n",
    "plt.ylabel(\"Expected Temperature (°F)\")"
   ]
  }
 ],
 "metadata": {
  "kernelspec": {
   "display_name": "Python 3 (ipykernel)",
   "language": "python",
   "name": "python3"
  },
  "language_info": {
   "codemirror_mode": {
    "name": "ipython",
    "version": 3
   },
   "file_extension": ".py",
   "mimetype": "text/x-python",
   "name": "python",
   "nbconvert_exporter": "python",
   "pygments_lexer": "ipython3",
   "version": "3.9.12"
  }
 },
 "nbformat": 4,
 "nbformat_minor": 5
}
